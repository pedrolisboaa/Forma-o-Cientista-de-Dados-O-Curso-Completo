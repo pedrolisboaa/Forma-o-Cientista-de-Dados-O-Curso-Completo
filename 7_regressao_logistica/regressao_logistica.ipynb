{
 "cells": [
  {
   "cell_type": "code",
   "execution_count": 1,
   "id": "60dc810e-b1b8-43d9-a8aa-d8a27af2febe",
   "metadata": {},
   "outputs": [],
   "source": [
    "import pandas as pd\n",
    "import matplotlib.pyplot as plt\n",
    "import numpy as np \n",
    "from sklearn.linear_model import LogisticRegression"
   ]
  },
  {
   "cell_type": "code",
   "execution_count": 4,
   "id": "0cf9b3a5-6037-497d-9c78-7c7c4a29a12e",
   "metadata": {},
   "outputs": [
    {
     "data": {
      "text/html": [
       "<div>\n",
       "<style scoped>\n",
       "    .dataframe tbody tr th:only-of-type {\n",
       "        vertical-align: middle;\n",
       "    }\n",
       "\n",
       "    .dataframe tbody tr th {\n",
       "        vertical-align: top;\n",
       "    }\n",
       "\n",
       "    .dataframe thead th {\n",
       "        text-align: right;\n",
       "    }\n",
       "</style>\n",
       "<table border=\"1\" class=\"dataframe\">\n",
       "  <thead>\n",
       "    <tr style=\"text-align: right;\">\n",
       "      <th></th>\n",
       "      <th>SITUACAO</th>\n",
       "      <th>DESPESAS</th>\n",
       "    </tr>\n",
       "  </thead>\n",
       "  <tbody>\n",
       "    <tr>\n",
       "      <th>count</th>\n",
       "      <td>47.000000</td>\n",
       "      <td>47.000000</td>\n",
       "    </tr>\n",
       "    <tr>\n",
       "      <th>mean</th>\n",
       "      <td>0.510638</td>\n",
       "      <td>1085.744681</td>\n",
       "    </tr>\n",
       "    <tr>\n",
       "      <th>std</th>\n",
       "      <td>0.505291</td>\n",
       "      <td>870.968338</td>\n",
       "    </tr>\n",
       "    <tr>\n",
       "      <th>min</th>\n",
       "      <td>0.000000</td>\n",
       "      <td>10.000000</td>\n",
       "    </tr>\n",
       "    <tr>\n",
       "      <th>25%</th>\n",
       "      <td>0.000000</td>\n",
       "      <td>300.000000</td>\n",
       "    </tr>\n",
       "    <tr>\n",
       "      <th>50%</th>\n",
       "      <td>1.000000</td>\n",
       "      <td>800.000000</td>\n",
       "    </tr>\n",
       "    <tr>\n",
       "      <th>75%</th>\n",
       "      <td>1.000000</td>\n",
       "      <td>1700.000000</td>\n",
       "    </tr>\n",
       "    <tr>\n",
       "      <th>max</th>\n",
       "      <td>1.000000</td>\n",
       "      <td>3300.000000</td>\n",
       "    </tr>\n",
       "  </tbody>\n",
       "</table>\n",
       "</div>"
      ],
      "text/plain": [
       "        SITUACAO     DESPESAS\n",
       "count  47.000000    47.000000\n",
       "mean    0.510638  1085.744681\n",
       "std     0.505291   870.968338\n",
       "min     0.000000    10.000000\n",
       "25%     0.000000   300.000000\n",
       "50%     1.000000   800.000000\n",
       "75%     1.000000  1700.000000\n",
       "max     1.000000  3300.000000"
      ]
     },
     "execution_count": 4,
     "metadata": {},
     "output_type": "execute_result"
    },
    {
     "data": {
      "image/png": "[encoded data removed]",
      "text/plain": [
       "<Figure size 640x480 with 1 Axes>"
      ]
     },
     "metadata": {},
     "output_type": "display_data"
    }
   ],
   "source": [
    "base = pd.read_csv('Eleicao.csv', sep=';')\n",
    "plt.scatter(base.DESPESAS, base.SITUACAO)\n",
    "base.describe()"
   ]
  },
  {
   "cell_type": "code",
   "execution_count": 5,
   "id": "c7e68282-afbd-4e72-adaa-77f760f3b12f",
   "metadata": {},
   "outputs": [
    {
     "data": {
      "text/plain": [
       "array([[1.        , 0.81218717],\n",
       "       [0.81218717, 1.        ]])"
      ]
     },
     "execution_count": 5,
     "metadata": {},
     "output_type": "execute_result"
    }
   ],
   "source": [
    "# Visualização do coeficiente de correlação entre o atributo \"despesas\" e situações\n",
    "np.corrcoef(base.DESPESAS, base.SITUACAO)"
   ]
  },
  {
   "cell_type": "code",
   "execution_count": 7,
   "id": "7d7da59d-975d-4a5e-ae48-05fc7463fa00",
   "metadata": {},
   "outputs": [
    {
     "data": {
      "text/plain": [
       "array([[  10],\n",
       "       [ 100],\n",
       "       [1600],\n",
       "       [1500],\n",
       "       [3300],\n",
       "       [ 200],\n",
       "       [1800],\n",
       "       [1700],\n",
       "       [ 300],\n",
       "       [1800],\n",
       "       [ 100],\n",
       "       [ 500],\n",
       "       [3000],\n",
       "       [  20],\n",
       "       [ 200],\n",
       "       [ 700],\n",
       "       [1600],\n",
       "       [1900],\n",
       "       [ 100],\n",
       "       [ 400],\n",
       "       [2700],\n",
       "       [ 200],\n",
       "       [ 300],\n",
       "       [ 500],\n",
       "       [2500],\n",
       "       [1400],\n",
       "       [ 700],\n",
       "       [1700],\n",
       "       [1400],\n",
       "       [1600],\n",
       "       [ 400],\n",
       "       [ 200],\n",
       "       [1600],\n",
       "       [2200],\n",
       "       [1900],\n",
       "       [ 200],\n",
       "       [1200],\n",
       "       [1700],\n",
       "       [1500],\n",
       "       [2100],\n",
       "       [ 400],\n",
       "       [ 800],\n",
       "       [ 400],\n",
       "       [ 500],\n",
       "       [1000],\n",
       "       [ 300],\n",
       "       [ 800]], dtype=int64)"
      ]
     },
     "execution_count": 7,
     "metadata": {},
     "output_type": "execute_result"
    }
   ],
   "source": [
    "# Criação das variáveios x e y \n",
    "# Transformação de x para o formato matriz adicionado um novo eixo\n",
    "x = base.iloc[:, 2].values\n",
    "x = x[:, np.newaxis]\n",
    "y = base.iloc[:, 1].values\n",
    "x"
   ]
  },
  {
   "cell_type": "code",
   "execution_count": 11,
   "id": "468f1f54-ba98-42e1-aaab-3723050930eb",
   "metadata": {},
   "outputs": [
    {
     "data": {
      "text/plain": [
       "array([-4.60287217])"
      ]
     },
     "execution_count": 11,
     "metadata": {},
     "output_type": "execute_result"
    }
   ],
   "source": [
    "# Criação de modelo, treinamento e visualização dos coeficientes\n",
    "modelo = LogisticRegression()\n",
    "modelo.fit(x, y)\n",
    "modelo.coef_\n",
    "modelo.intercept_\n",
    "\n"
   ]
  },
  {
   "cell_type": "code",
   "execution_count": 18,
   "id": "f27bf3b4-873f-4858-8465-92054aee7068",
   "metadata": {},
   "outputs": [
    {
     "data": {
      "text/plain": [
       "[<matplotlib.lines.Line2D at 0x1f1b07f3b10>]"
      ]
     },
     "execution_count": 18,
     "metadata": {},
     "output_type": "execute_result"
    },
    {
     "data": {
      "image/png": "[encoded data removed]",
      "text/plain": [
       "<Figure size 640x480 with 1 Axes>"
      ]
     },
     "metadata": {},
     "output_type": "display_data"
    }
   ],
   "source": [
    "plt.scatter(x, y)\n",
    "x_teste = np.linspace(10, 300, 100)\n",
    "\n",
    "def model(x):\n",
    "    return 1 / (1 + np.exp(-x))\n",
    "\n",
    "r = model(x_teste * modelo.coef_ + modelo.intercept_).ravel()\n",
    "plt.plot(x_teste, r, color = 'red')"
   ]
  },
  {
   "cell_type": "code",
   "execution_count": 24,
   "id": "130e6e2e-4352-4389-a642-c9bfa89db1f5",
   "metadata": {},
   "outputs": [
    {
     "data": {
      "text/html": [
       "<div>\n",
       "<style scoped>\n",
       "    .dataframe tbody tr th:only-of-type {\n",
       "        vertical-align: middle;\n",
       "    }\n",
       "\n",
       "    .dataframe tbody tr th {\n",
       "        vertical-align: top;\n",
       "    }\n",
       "\n",
       "    .dataframe thead th {\n",
       "        text-align: right;\n",
       "    }\n",
       "</style>\n",
       "<table border=\"1\" class=\"dataframe\">\n",
       "  <thead>\n",
       "    <tr style=\"text-align: right;\">\n",
       "      <th></th>\n",
       "      <th>CANDIDATO</th>\n",
       "      <th>DESPESAS</th>\n",
       "      <th>Unnamed: 2</th>\n",
       "      <th>Unnamed: 3</th>\n",
       "      <th>Unnamed: 4</th>\n",
       "      <th>Unnamed: 5</th>\n",
       "    </tr>\n",
       "  </thead>\n",
       "  <tbody>\n",
       "    <tr>\n",
       "      <th>0</th>\n",
       "      <td>A</td>\n",
       "      <td>0</td>\n",
       "      <td>NaN</td>\n",
       "      <td>NaN</td>\n",
       "      <td>NaN</td>\n",
       "      <td>NaN</td>\n",
       "    </tr>\n",
       "    <tr>\n",
       "      <th>1</th>\n",
       "      <td>B</td>\n",
       "      <td>10000</td>\n",
       "      <td>NaN</td>\n",
       "      <td>NaN</td>\n",
       "      <td>NaN</td>\n",
       "      <td>NaN</td>\n",
       "    </tr>\n",
       "    <tr>\n",
       "      <th>2</th>\n",
       "      <td>C</td>\n",
       "      <td>200</td>\n",
       "      <td>NaN</td>\n",
       "      <td>NaN</td>\n",
       "      <td>NaN</td>\n",
       "      <td>NaN</td>\n",
       "    </tr>\n",
       "    <tr>\n",
       "      <th>3</th>\n",
       "      <td>D</td>\n",
       "      <td>500</td>\n",
       "      <td>NaN</td>\n",
       "      <td>NaN</td>\n",
       "      <td>NaN</td>\n",
       "      <td>NaN</td>\n",
       "    </tr>\n",
       "    <tr>\n",
       "      <th>4</th>\n",
       "      <td>E</td>\n",
       "      <td>900</td>\n",
       "      <td>NaN</td>\n",
       "      <td>NaN</td>\n",
       "      <td>NaN</td>\n",
       "      <td>NaN</td>\n",
       "    </tr>\n",
       "    <tr>\n",
       "      <th>5</th>\n",
       "      <td>F</td>\n",
       "      <td>1500</td>\n",
       "      <td>NaN</td>\n",
       "      <td>NaN</td>\n",
       "      <td>NaN</td>\n",
       "      <td>NaN</td>\n",
       "    </tr>\n",
       "    <tr>\n",
       "      <th>6</th>\n",
       "      <td>G</td>\n",
       "      <td>3000</td>\n",
       "      <td>NaN</td>\n",
       "      <td>NaN</td>\n",
       "      <td>NaN</td>\n",
       "      <td>NaN</td>\n",
       "    </tr>\n",
       "    <tr>\n",
       "      <th>7</th>\n",
       "      <td>H</td>\n",
       "      <td>150</td>\n",
       "      <td>NaN</td>\n",
       "      <td>NaN</td>\n",
       "      <td>NaN</td>\n",
       "      <td>NaN</td>\n",
       "    </tr>\n",
       "  </tbody>\n",
       "</table>\n",
       "</div>"
      ],
      "text/plain": [
       "  CANDIDATO  DESPESAS  Unnamed: 2  Unnamed: 3  Unnamed: 4  Unnamed: 5\n",
       "0         A         0         NaN         NaN         NaN         NaN\n",
       "1         B     10000         NaN         NaN         NaN         NaN\n",
       "2         C       200         NaN         NaN         NaN         NaN\n",
       "3         D       500         NaN         NaN         NaN         NaN\n",
       "4         E       900         NaN         NaN         NaN         NaN\n",
       "5         F      1500         NaN         NaN         NaN         NaN\n",
       "6         G      3000         NaN         NaN         NaN         NaN\n",
       "7         H       150         NaN         NaN         NaN         NaN"
      ]
     },
     "execution_count": 24,
     "metadata": {},
     "output_type": "execute_result"
    }
   ],
   "source": [
    "# Carregamento de base de daods comosnovos candidatos\n",
    "base_previsoes = pd.read_csv('NovosCandidatos2.csv', sep=';')\n",
    "base_previsoes"
   ]
  },
  {
   "cell_type": "code",
   "execution_count": 26,
   "id": "dd4c532d-f600-4c3a-8e30-4f89a60f8ef6",
   "metadata": {},
   "outputs": [
    {
     "data": {
      "text/plain": [
       "array([0, 1, 0, 0, 0, 1, 1, 0], dtype=int64)"
      ]
     },
     "execution_count": 26,
     "metadata": {},
     "output_type": "execute_result"
    }
   ],
   "source": [
    "despesas = base_previsoes.iloc[:, 1].values\n",
    "despesas = despesas.reshape(-1, 1)\n",
    "previsoes_teste = modelo.predict(despesas)\n",
    "previsoes_teste"
   ]
  },
  {
   "cell_type": "code",
   "execution_count": 27,
   "id": "81648355-ae54-4053-9db5-9192f94420c2",
   "metadata": {},
   "outputs": [
    {
     "data": {
      "text/plain": [
       "array([['A', 0, nan, nan, nan, nan, 0],\n",
       "       ['B', 10000, nan, nan, nan, nan, 1],\n",
       "       ['C', 200, nan, nan, nan, nan, 0],\n",
       "       ['D', 500, nan, nan, nan, nan, 0],\n",
       "       ['E', 900, nan, nan, nan, nan, 0],\n",
       "       ['F', 1500, nan, nan, nan, nan, 1],\n",
       "       ['G', 3000, nan, nan, nan, nan, 1],\n",
       "       ['H', 150, nan, nan, nan, nan, 0]], dtype=object)"
      ]
     },
     "execution_count": 27,
     "metadata": {},
     "output_type": "execute_result"
    }
   ],
   "source": [
    "base_previsoes = np.column_stack([base_previsoes, previsoes_teste])\n",
    "base_previsoes"
   ]
  }
 ],
 "metadata": {
  "kernelspec": {
   "display_name": "Python 3 (ipykernel)",
   "language": "python",
   "name": "python3"
  },
  "language_info": {
   "codemirror_mode": {
    "name": "ipython",
    "version": 3
   },
   "file_extension": ".py",
   "mimetype": "text/x-python",
   "name": "python",
   "nbconvert_exporter": "python",
   "pygments_lexer": "ipython3",
   "version": "3.11.5"
  }
 },
 "nbformat": 4,
 "nbformat_minor": 5
}

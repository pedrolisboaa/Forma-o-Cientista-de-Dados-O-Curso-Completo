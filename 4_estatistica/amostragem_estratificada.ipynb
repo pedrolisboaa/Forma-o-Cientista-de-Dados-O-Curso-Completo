{
 "cells": [
  {
   "cell_type": "markdown",
   "id": "31af4f13-1ba5-4fa0-bba3-a6a4a6119643",
   "metadata": {},
   "source": [
    "# Amostragem Estratificada "
   ]
  },
  {
   "cell_type": "code",
   "execution_count": 1,
   "id": "2dab96eb-1df2-476b-abc2-b643fe5fb235",
   "metadata": {},
   "outputs": [],
   "source": [
    "import pandas as pd\n",
    "from sklearn.model_selection import train_test_split"
   ]
  },
  {
   "cell_type": "code",
   "execution_count": 2,
   "id": "77c550db-dcb2-4c0f-b67c-3f981b1b50fd",
   "metadata": {},
   "outputs": [
    {
     "data": {
      "text/plain": [
       "class\n",
       "Iris-setosa        50\n",
       "Iris-versicolor    50\n",
       "Iris-virginica     50\n",
       "Name: count, dtype: int64"
      ]
     },
     "execution_count": 2,
     "metadata": {},
     "output_type": "execute_result"
    }
   ],
   "source": [
    "iris = pd.read_csv('dados/iris.csv')\n",
    "iris['class'].value_counts()"
   ]
  }
 ],
 "metadata": {
  "kernelspec": {
   "display_name": "Python 3 (ipykernel)",
   "language": "python",
   "name": "python3"
  },
  "language_info": {
   "codemirror_mode": {
    "name": "ipython",
    "version": 3
   },
   "file_extension": ".py",
   "mimetype": "text/x-python",
   "name": "python",
   "nbconvert_exporter": "python",
   "pygments_lexer": "ipython3",
   "version": "3.11.5"
  }
 },
 "nbformat": 4,
 "nbformat_minor": 5
}

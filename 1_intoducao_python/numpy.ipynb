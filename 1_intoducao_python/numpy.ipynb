{
 "cells": [
  {
   "cell_type": "markdown",
   "id": "6787e4cf-a066-45e0-98ea-c30055541b5c",
   "metadata": {},
   "source": [
    "# Introdução ao NumPy"
   ]
  },
  {
   "cell_type": "code",
   "execution_count": 1,
   "id": "021efcf5-69f3-4e9a-9022-e745e91bc3eb",
   "metadata": {},
   "outputs": [],
   "source": [
    "import numpy as np"
   ]
  },
  {
   "cell_type": "markdown",
   "id": "48186448-b7fa-4245-9589-030f642858de",
   "metadata": {},
   "source": [
    "# Criando uma matriz unidimensional"
   ]
  },
  {
   "cell_type": "code",
   "execution_count": 2,
   "id": "f9b74ed2-3a2c-4dc0-a45b-156eedc93a7b",
   "metadata": {},
   "outputs": [
    {
     "name": "stdout",
     "output_type": "stream",
     "text": [
      "[1 2 3 4 5]\n",
      "<class 'numpy.ndarray'>\n"
     ]
    }
   ],
   "source": [
    "\n",
    "matriz = np.array([1, 2, 3, 4, 5])\n",
    "print(matriz)\n",
    "print(type(matriz))"
   ]
  },
  {
   "cell_type": "code",
   "execution_count": 3,
   "id": "04ab7d7a-b63f-48c2-8ea4-fe634c687b56",
   "metadata": {},
   "outputs": [
    {
     "name": "stdout",
     "output_type": "stream",
     "text": [
      "[1. 2. 3.]\n",
      "<class 'numpy.ndarray'>\n",
      "[1 2 3]\n",
      "<class 'numpy.ndarray'>\n"
     ]
    }
   ],
   "source": [
    "#\n",
    "matriz_float = np.array([1, 2, 3], dtype=np.float64)\n",
    "print(matriz_float)\n",
    "print(type(matriz_float))\n",
    "\n",
    "matriz_int = np.array([1, 2, 3], dtype=np.int32)\n",
    "print(matriz_int)\n",
    "print(type(matriz_int))"
   ]
  },
  {
   "cell_type": "markdown",
   "id": "19a2a783-a186-4cb2-8728-9b52a9168183",
   "metadata": {},
   "source": [
    "# Mudando os Tipos do Array\n",
    "# Podemos transformar tipo de dados de array"
   ]
  },
  {
   "cell_type": "code",
   "execution_count": 4,
   "id": "e9df88eb-6d5f-4661-9526-8a764f41064e",
   "metadata": {},
   "outputs": [
    {
     "name": "stdout",
     "output_type": "stream",
     "text": [
      "[ 1.4      4.6     -7.6      0.45     4.99999]\n",
      "[ 1  4 -7  0  4]\n"
     ]
    }
   ],
   "source": [
    "\n",
    "matriz_nova = np.array([1.4, 4.6, -7.6, 0.45, 4.99999])\n",
    "print(matriz_nova)\n",
    "\n",
    "# Se mudarr para int, vai truncar os valores\n",
    "matriz_nova = matriz_nova.astype(np.int32)\n",
    "print(matriz_nova)"
   ]
  },
  {
   "cell_type": "code",
   "execution_count": 5,
   "id": "ebc94ee6-6548-4329-b5a8-94bb9bf4e7ae",
   "metadata": {},
   "outputs": [
    {
     "name": "stdout",
     "output_type": "stream",
     "text": [
      "[1. 2. 3. 4.]\n"
     ]
    }
   ],
   "source": [
    "# Posso mudar\n",
    "matriz_nova2 = np.array([1, 2, 3, 4])\n",
    "print(matriz_nova2.astype(np.float64))\n"
   ]
  },
  {
   "cell_type": "code",
   "execution_count": 6,
   "id": "7a61329c-b36f-4ef0-b4e4-eebcc33b839a",
   "metadata": {},
   "outputs": [
    {
     "name": "stdout",
     "output_type": "stream",
     "text": [
      "[[1 2 3]\n",
      " [4 5 6]\n",
      " [7 8 9]]\n"
     ]
    }
   ],
   "source": [
    "matriz_varias_lihas = np.array([[1,2,3], [4, 5, 6], [7, 8, 9]])\n",
    "print(matriz_varias_lihas)"
   ]
  },
  {
   "cell_type": "markdown",
   "id": "3ee831a8-b42d-483c-bc0e-01e3ee78d896",
   "metadata": {},
   "source": [
    "# Array vazio tipificados"
   ]
  },
  {
   "cell_type": "code",
   "execution_count": 7,
   "id": "7847e9df-63cd-45e2-9114-9dd8b9da11cc",
   "metadata": {},
   "outputs": [
    {
     "name": "stdout",
     "output_type": "stream",
     "text": [
      "[[    0     1     0]\n",
      " [  592  1264     0]\n",
      " [  768 32764     0]]\n",
      "---------------\n",
      "[[0. 0. 0.]\n",
      " [0. 0. 0.]\n",
      " [0. 0. 0.]]\n",
      "---------------\n",
      "[[1. 1. 1. 1. 1.]\n",
      " [1. 1. 1. 1. 1.]\n",
      " [1. 1. 1. 1. 1.]\n",
      " [1. 1. 1. 1. 1.]\n",
      " [1. 1. 1. 1. 1.]]\n"
     ]
    }
   ],
   "source": [
    "\n",
    "matriz_vazia = np.empty([3,3], dtype=int)\n",
    "print(matriz_vazia)\n",
    "print('---------------')\n",
    "\n",
    "# Array com valores Zero\n",
    "zeros = np.zeros([3,3])\n",
    "print(zeros)\n",
    "print('---------------')\n",
    "\n",
    "# Valores iguais a um\n",
    "matriz_um = np.ones([5,5])\n",
    "print(matriz_um)\n"
   ]
  },
  {
   "cell_type": "markdown",
   "id": "599d934e-a54a-418a-88ec-03b952aff240",
   "metadata": {},
   "source": [
    "# Gerando Matriz Aleatórias"
   ]
  },
  {
   "cell_type": "code",
   "execution_count": 24,
   "id": "41eb0dc7-cd50-46f0-9ae7-368de51df68e",
   "metadata": {},
   "outputs": [
    {
     "name": "stdout",
     "output_type": "stream",
     "text": [
      "[0.01151303 0.71159122 0.89783605 0.544651   0.02366731]\n",
      "[ 0.25510996 -0.87849041  1.45948063  1.02999645  0.26845779]\n",
      "[4.79432305 9.02465334 7.7882525  8.09012068 0.50155974]\n",
      "[9 2 7 9 5]\n"
     ]
    }
   ],
   "source": [
    "\n",
    "aleatorio = np.random.random((5))\n",
    "print(aleatorio)\n",
    "\n",
    "aleatorios_negativo = np.random.randn((5))\n",
    "print(aleatorios_negativo)\n",
    "\n",
    "aleatorio_10 = (10 * np.random.random(5))\n",
    "aleatorio_10_truncado = ((10 * np.random.random(5)).astype(np.int32))\n",
    "print(aleatorio_10)\n",
    "print(aleatorio_10_truncado)"
   ]
  },
  {
   "cell_type": "code",
   "execution_count": 32,
   "id": "9d46404d-b66c-4526-912d-1eb9b371ed75",
   "metadata": {},
   "outputs": [
    {
     "name": "stdout",
     "output_type": "stream",
     "text": [
      "[0.51182162 0.9504637  0.14415961]\n"
     ]
    }
   ],
   "source": [
    "# Outra forma de gerar números aleatórios\n",
    "gnr = np.random.default_rng(1)\n",
    "aleatorio_5  = gnr.random(3)\n",
    "\n",
    "print(aleatorio_5)"
   ]
  },
  {
   "cell_type": "markdown",
   "id": "5c34980b-99f0-4c83-acf7-ae3e92a8f223",
   "metadata": {},
   "source": [
    "# Unique removendo repetições"
   ]
  },
  {
   "cell_type": "code",
   "execution_count": 49,
   "id": "81b6b45b-85fb-41cc-b97f-0a7eefc18236",
   "metadata": {},
   "outputs": [
    {
     "name": "stdout",
     "output_type": "stream",
     "text": [
      "[ 1  2  3  4  5  6  7  8  9 10 15 30]\n"
     ]
    }
   ],
   "source": [
    "\n",
    "j = np.array([[3, 6, 2, 8, 1, 4, 5, 7, 9, 10, 3, 2, 5, 30, 8, 1, 10, 4, 6, 7, 9], [1, 2, 3, 4, 5, 6, 7, 8, 9, 10, 5, 7, 2, 3, 9, 1, 6, 8, 4, 10,15]])\n",
    "j = np.unique(j)\n",
    "\n",
    "print(j)"
   ]
  },
  {
   "cell_type": "code",
   "execution_count": 39,
   "id": "49ae5371-964b-4a45-9aab-0d821b40c1f3",
   "metadata": {},
   "outputs": [
    {
     "name": "stdout",
     "output_type": "stream",
     "text": [
      "[[1 2 3]\n",
      " [4 5 6]]\n",
      "3\n",
      "(2, 3)\n"
     ]
    }
   ],
   "source": [
    "# Criando Matriz Bidimensional\n",
    "\n",
    "k = np.array([[1, 2, 3], [4, 5, 6]])\n",
    "print(k)\n",
    "print(k[0][2])\n",
    "print(k.shape)"
   ]
  },
  {
   "cell_type": "markdown",
   "id": "627d9fa9-0300-4f4c-9aea-0df4dd558094",
   "metadata": {},
   "source": [
    "# Funções Matemáticas"
   ]
  },
  {
   "cell_type": "code",
   "execution_count": 51,
   "id": "89e91ac1-4f88-4cbc-b92f-6c26dd54f546",
   "metadata": {},
   "outputs": [
    {
     "name": "stdout",
     "output_type": "stream",
     "text": [
      "10\n",
      "1\n",
      "110\n",
      "5.5\n",
      "2.8722813232690143\n"
     ]
    }
   ],
   "source": [
    "array_matematica = np.array([3, 6, 2, 8, 1, 4, 5, 7, 9, 10, 3, 2, 5, 8, 1, 10, 4, 6, 7, 9])\n",
    "print(array_matematica.max())\n",
    "print(array_matematica.min())\n",
    "print(array_matematica.sum())\n",
    "print(array_matematica.mean())\n",
    "# Desvio Padrão\n",
    "print(array_matematica.std())"
   ]
  },
  {
   "cell_type": "markdown",
   "id": "6af41679-dbf3-4812-bb63-7466ce5285cc",
   "metadata": {},
   "source": [
    "# Funções universais aplicadas a todos elementos"
   ]
  },
  {
   "cell_type": "code",
   "execution_count": 54,
   "id": "ce319eaa-1af3-4f76-ac3b-13ee7178e0a9",
   "metadata": {},
   "outputs": [
    {
     "name": "stdout",
     "output_type": "stream",
     "text": [
      "[1. 2. 3. 4. 5. 6.]\n",
      "[2.71828183e+00 5.45981500e+01 8.10308393e+03 8.88611052e+06\n",
      " 7.20048993e+10 4.31123155e+15]\n"
     ]
    }
   ],
   "source": [
    "k = np.array([1, 4, 9, 16, 25, 36])\n",
    "print(np.sqrt(k))\n",
    "print(np.exp(k))"
   ]
  },
  {
   "cell_type": "markdown",
   "id": "39ba9af6-6112-464c-a26c-242815e668c5",
   "metadata": {},
   "source": [
    "# Extrações de linhas e coluas"
   ]
  },
  {
   "cell_type": "code",
   "execution_count": 62,
   "id": "0d9671fe-aea3-4562-8b15-78ec66cd7bf0",
   "metadata": {},
   "outputs": [
    {
     "name": "stdout",
     "output_type": "stream",
     "text": [
      "[[1 2 3]\n",
      " [4 5 6]\n",
      " [7 8 9]]\n",
      "----------------\n",
      "[1 2 3]\n",
      "----------------\n",
      "[4 5 6]\n",
      "----------------\n",
      "[7 8 9]\n",
      "----------------\n",
      "[1 4 7]\n",
      "----------------\n",
      "[2 5 8]\n",
      "----------------\n",
      "[3 6 9]\n"
     ]
    }
   ],
   "source": [
    "l = np.array([[1,2,3], [4,5,6], [7,8,9]])\n",
    "print(l)\n",
    "print('----------------')\n",
    "\n",
    "#Linhas\n",
    "linhas_1 = l[0]\n",
    "print(linhas_1)\n",
    "print('----------------')\n",
    "linhas_2 = l[1]\n",
    "print(linhas_2)\n",
    "print('----------------')\n",
    "linhas_3 = l[2]\n",
    "print(linhas_3)\n",
    "print('----------------')\n",
    "\n",
    "# Colunas\n",
    "coluna_1 = l[:, 0]\n",
    "print(coluna_1)\n",
    "print('----------------')\n",
    "coluna_2 = l[:, 1]\n",
    "print(coluna_2)\n",
    "print('----------------')\n",
    "coluna_3 = l[:, 2]\n",
    "print(coluna_3)\n"
   ]
  },
  {
   "cell_type": "markdown",
   "id": "b8947df0-60f2-4b61-bf09-6f960e2b7dfe",
   "metadata": {},
   "source": [
    "# Adição de multiplicação de matrizes"
   ]
  },
  {
   "cell_type": "code",
   "execution_count": 71,
   "id": "d76c6116-0430-4711-a2da-fbbd6168acfd",
   "metadata": {},
   "outputs": [
    {
     "name": "stdout",
     "output_type": "stream",
     "text": [
      "[[ 2  6]\n",
      " [10  8]]\n",
      "[[ 4 24]\n",
      " [30 32]]\n"
     ]
    }
   ],
   "source": [
    "matriz1 = np.array([[1, 2], [3, 4]])\n",
    "matriz2 = np.array([[1, 4], [7, 4]])\n",
    "matriz3 = np.array([[2, 4], [3, 4]])\n",
    "\n",
    "resultado = matriz1 + matriz2\n",
    "print(resultado)\n",
    "print(resultado * matriz3)"
   ]
  },
  {
   "cell_type": "markdown",
   "id": "b6d168c3-dba8-48a5-b6e3-57d16acf6767",
   "metadata": {},
   "source": [
    "# Transposição,"
   ]
  },
  {
   "cell_type": "code",
   "execution_count": 73,
   "id": "0e0a0b53-19b3-4811-a067-024a1305ef93",
   "metadata": {},
   "outputs": [
    {
     "name": "stdout",
     "output_type": "stream",
     "text": [
      "[[ 0  1  2  3  4]\n",
      " [ 5  6  7  8  9]\n",
      " [10 11 12 13 14]\n",
      " [15 16 17 18 19]]\n",
      "[[ 0  1]\n",
      " [ 2  3]\n",
      " [ 4  5]\n",
      " [ 6  7]\n",
      " [ 8  9]\n",
      " [10 11]\n",
      " [12 13]\n",
      " [14 15]\n",
      " [16 17]\n",
      " [18 19]]\n"
     ]
    }
   ],
   "source": [
    "f = np.arange(20).reshape(4, 5)\n",
    "g = np.arange(20).reshape(10, 2)\n",
    "print(f)\n",
    "print(g)"
   ]
  }
 ],
 "metadata": {
  "kernelspec": {
   "display_name": "Python 3 (ipykernel)",
   "language": "python",
   "name": "python3"
  },
  "language_info": {
   "codemirror_mode": {
    "name": "ipython",
    "version": 3
   },
   "file_extension": ".py",
   "mimetype": "text/x-python",
   "name": "python",
   "nbconvert_exporter": "python",
   "pygments_lexer": "ipython3",
   "version": "3.11.5"
  }
 },
 "nbformat": 4,
 "nbformat_minor": 5
}

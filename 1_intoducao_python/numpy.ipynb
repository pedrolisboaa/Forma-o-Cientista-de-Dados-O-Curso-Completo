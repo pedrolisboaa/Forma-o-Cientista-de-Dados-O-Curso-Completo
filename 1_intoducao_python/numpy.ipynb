{
 "cells": [
  {
   "cell_type": "markdown",
   "id": "6787e4cf-a066-45e0-98ea-c30055541b5c",
   "metadata": {},
   "source": [
    "# Introdução ao NumPy"
   ]
  },
  {
   "cell_type": "code",
   "execution_count": 1,
   "id": "021efcf5-69f3-4e9a-9022-e745e91bc3eb",
   "metadata": {},
   "outputs": [],
   "source": [
    "import numpy as np"
   ]
  },
  {
   "cell_type": "code",
   "execution_count": 7,
   "id": "f9b74ed2-3a2c-4dc0-a45b-156eedc93a7b",
   "metadata": {},
   "outputs": [
    {
     "name": "stdout",
     "output_type": "stream",
     "text": [
      "[1 2 3 4 5]\n",
      "<class 'numpy.ndarray'>\n"
     ]
    }
   ],
   "source": [
    "# Criando uma matriz unidimensional\n",
    "matriz = np.array([1, 2, 3, 4, 5])\n",
    "print(matriz)\n",
    "print(type(matriz))"
   ]
  },
  {
   "cell_type": "code",
   "execution_count": 7,
   "id": "04ab7d7a-b63f-48c2-8ea4-fe634c687b56",
   "metadata": {},
   "outputs": [
    {
     "name": "stdout",
     "output_type": "stream",
     "text": [
      "[1. 2. 3.]\n",
      "<class 'numpy.ndarray'>\n",
      "[1 2 3]\n",
      "<class 'numpy.ndarray'>\n"
     ]
    }
   ],
   "source": [
    "#\n",
    "matriz_float = np.array([1, 2, 3], dtype=np.float64)\n",
    "print(matriz_float)\n",
    "print(type(matriz_float))\n",
    "\n",
    "matriz_int = np.array([1, 2, 3], dtype=np.int32)\n",
    "print(matriz_int)\n",
    "print(type(matriz_int))"
   ]
  },
  {
   "cell_type": "code",
   "execution_count": 12,
   "id": "e9df88eb-6d5f-4661-9526-8a764f41064e",
   "metadata": {},
   "outputs": [
    {
     "name": "stdout",
     "output_type": "stream",
     "text": [
      "[ 1.4      4.6     -7.6      0.45     4.99999]\n",
      "[ 1  4 -7  0  4]\n"
     ]
    }
   ],
   "source": [
    "# Mudando os Tipos do Array\n",
    "# Podemos transformar tipo de dados de array\n",
    "matriz_nova = np.array([1.4, 4.6, -7.6, 0.45, 4.99999])\n",
    "print(matriz_nova)\n",
    "\n",
    "# Se mudarr para int, vai truncar os valores\n",
    "matriz_nova = matriz_nova.astype(np.int32)\n",
    "print(matriz_nova)"
   ]
  },
  {
   "cell_type": "code",
   "execution_count": null,
   "id": "ebc94ee6-6548-4329-b5a8-94bb9bf4e7ae",
   "metadata": {},
   "outputs": [],
   "source": [
    "# Posso mudar\n",
    "matriz_nova2 = np.array([1, 2, 3, 4])\n",
    "print(matriz_nova2)\n"
   ]
  }
 ],
 "metadata": {
  "kernelspec": {
   "display_name": "Python 3 (ipykernel)",
   "language": "python",
   "name": "python3"
  },
  "language_info": {
   "codemirror_mode": {
    "name": "ipython",
    "version": 3
   },
   "file_extension": ".py",
   "mimetype": "text/x-python",
   "name": "python",
   "nbconvert_exporter": "python",
   "pygments_lexer": "ipython3",
   "version": "3.11.5"
  }
 },
 "nbformat": 4,
 "nbformat_minor": 5
}

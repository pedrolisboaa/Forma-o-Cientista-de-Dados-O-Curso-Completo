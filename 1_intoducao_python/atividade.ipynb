{
 "cells": [
  {
   "cell_type": "code",
   "execution_count": 6,
   "id": "10233c03-1f03-4993-8bcb-2a995d5ea317",
   "metadata": {},
   "outputs": [
    {
     "name": "stdout",
     "output_type": "stream",
     "text": [
      "A amplitude da lista [10, 20, 30, 40, 50, 60, 70] é  60\n",
      "60\n"
     ]
    }
   ],
   "source": [
    "\"\"\"\n",
    "Faça um programa que tenha uma função chamada amplitude. A função deve receber uma lista e\n",
    "imprimir a amplitude.\n",
    "Crie também um código para testar sua função\n",
    "\"\"\"\n",
    "from numpy import ptp\n",
    "\n",
    "def amplitude(lista):\n",
    "    maior_elemento = max(lista)\n",
    "    menor_elemento = min(lista)\n",
    "    amplitude = maior_elemento - menor_elemento\n",
    "\n",
    "    print(f'A amplitude da lista {lista} é  {amplitude}')\n",
    "\n",
    "\n",
    "def amplitude2(lista):\n",
    "    print(ptp(lista))\n",
    "    \n",
    "    \n",
    "lista = [10, 20, 30, 40, 50, 60 , 70]\n",
    "amplitude(lista)\n",
    "amplitude2(lista)"
   ]
  },
  {
   "cell_type": "code",
   "execution_count": 5,
   "id": "f9913c22-4f17-44e0-bfa7-ffbcdff6ae11",
   "metadata": {},
   "outputs": [
    {
     "name": "stdout",
     "output_type": "stream",
     "text": [
      "p\n",
      "y\n",
      "t\n",
      "h\n",
      "o\n",
      "n\n"
     ]
    }
   ],
   "source": [
    "\"\"\"\n",
    "Faça uma função que receba uma string e imprima esta string na forma vertical\n",
    "Por exemplo, se receber python, deve imprimir\n",
    "\"\"\"\n",
    "\n",
    "def imprimir_na_vertifical(palavra):\n",
    "    for letra in palavra:\n",
    "        print(letra)\n",
    "\n",
    "\n",
    "imprimir_na_vertifical('python')"
   ]
  },
  {
   "cell_type": "code",
   "execution_count": null,
   "id": "e55cc1f8-c483-4b96-8640-baf1d2a546da",
   "metadata": {},
   "outputs": [],
   "source": [
    "\"\"\"\n",
    "Crie um programa que leia o peso de uma carga em números inteiros. Se o peso for até 10 kg, informe\n",
    "que o valor será de R$ 50,00. Entre 11 e 20 kg, informe que o valor será de R$ 80. Se for maior que 20\n",
    "informe que o transporte não é aceito. Teste vários pesos.\n",
    "\"\"\"\n",
    "\n",
    "valor = input('Informe um peso.')\n",
    "if valor "
   ]
  }
 ],
 "metadata": {
  "kernelspec": {
   "display_name": "Python 3 (ipykernel)",
   "language": "python",
   "name": "python3"
  },
  "language_info": {
   "codemirror_mode": {
    "name": "ipython",
    "version": 3
   },
   "file_extension": ".py",
   "mimetype": "text/x-python",
   "name": "python",
   "nbconvert_exporter": "python",
   "pygments_lexer": "ipython3",
   "version": "3.12.0"
  }
 },
 "nbformat": 4,
 "nbformat_minor": 5
}
